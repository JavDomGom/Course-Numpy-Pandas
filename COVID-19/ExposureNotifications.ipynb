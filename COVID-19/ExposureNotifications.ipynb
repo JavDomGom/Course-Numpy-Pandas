{
 "cells": [
  {
   "cell_type": "code",
   "execution_count": 7,
   "metadata": {},
   "outputs": [],
   "source": [
    "import pandas as pd\n",
    "import matplotlib.pyplot as plt\n",
    "\n",
    "df = pd.read_csv(\n",
    "    r'./datasets/ExposureNotifications.csv',\n",
    "    encoding='ISO-8859-1',\n",
    "    delimiter=','\n",
    ")"
   ]
  },
  {
   "cell_type": "code",
   "execution_count": 8,
   "metadata": {},
   "outputs": [
    {
     "data": {
      "text/html": [
       "<div>\n",
       "<style scoped>\n",
       "    .dataframe tbody tr th:only-of-type {\n",
       "        vertical-align: middle;\n",
       "    }\n",
       "\n",
       "    .dataframe tbody tr th {\n",
       "        vertical-align: top;\n",
       "    }\n",
       "\n",
       "    .dataframe thead th {\n",
       "        text-align: right;\n",
       "    }\n",
       "</style>\n",
       "<table border=\"1\" class=\"dataframe\">\n",
       "  <thead>\n",
       "    <tr style=\"text-align: right;\">\n",
       "      <th></th>\n",
       "      <th>day</th>\n",
       "      <th>count_android</th>\n",
       "      <th>count_ios</th>\n",
       "    </tr>\n",
       "  </thead>\n",
       "  <tbody>\n",
       "    <tr>\n",
       "      <th>0</th>\n",
       "      <td>2020-09-24</td>\n",
       "      <td>1235</td>\n",
       "      <td>2399</td>\n",
       "    </tr>\n",
       "    <tr>\n",
       "      <th>1</th>\n",
       "      <td>2020-09-25</td>\n",
       "      <td>292</td>\n",
       "      <td>1456</td>\n",
       "    </tr>\n",
       "    <tr>\n",
       "      <th>2</th>\n",
       "      <td>2020-09-26</td>\n",
       "      <td>382</td>\n",
       "      <td>3236</td>\n",
       "    </tr>\n",
       "    <tr>\n",
       "      <th>3</th>\n",
       "      <td>2020-09-27</td>\n",
       "      <td>457</td>\n",
       "      <td>1866</td>\n",
       "    </tr>\n",
       "    <tr>\n",
       "      <th>4</th>\n",
       "      <td>2020-09-28</td>\n",
       "      <td>246</td>\n",
       "      <td>4154</td>\n",
       "    </tr>\n",
       "    <tr>\n",
       "      <th>5</th>\n",
       "      <td>2020-09-29</td>\n",
       "      <td>187</td>\n",
       "      <td>2066</td>\n",
       "    </tr>\n",
       "    <tr>\n",
       "      <th>6</th>\n",
       "      <td>2020-09-30</td>\n",
       "      <td>230</td>\n",
       "      <td>4152</td>\n",
       "    </tr>\n",
       "    <tr>\n",
       "      <th>7</th>\n",
       "      <td>2020-10-01</td>\n",
       "      <td>359</td>\n",
       "      <td>2161</td>\n",
       "    </tr>\n",
       "    <tr>\n",
       "      <th>8</th>\n",
       "      <td>2020-10-02</td>\n",
       "      <td>307</td>\n",
       "      <td>4290</td>\n",
       "    </tr>\n",
       "    <tr>\n",
       "      <th>9</th>\n",
       "      <td>2020-10-03</td>\n",
       "      <td>326</td>\n",
       "      <td>2150</td>\n",
       "    </tr>\n",
       "    <tr>\n",
       "      <th>10</th>\n",
       "      <td>2020-10-04</td>\n",
       "      <td>340</td>\n",
       "      <td>4558</td>\n",
       "    </tr>\n",
       "  </tbody>\n",
       "</table>\n",
       "</div>"
      ],
      "text/plain": [
       "           day  count_android  count_ios\n",
       "0   2020-09-24           1235       2399\n",
       "1   2020-09-25            292       1456\n",
       "2   2020-09-26            382       3236\n",
       "3   2020-09-27            457       1866\n",
       "4   2020-09-28            246       4154\n",
       "5   2020-09-29            187       2066\n",
       "6   2020-09-30            230       4152\n",
       "7   2020-10-01            359       2161\n",
       "8   2020-10-02            307       4290\n",
       "9   2020-10-03            326       2150\n",
       "10  2020-10-04            340       4558"
      ]
     },
     "execution_count": 8,
     "metadata": {},
     "output_type": "execute_result"
    }
   ],
   "source": [
    "df"
   ]
  },
  {
   "cell_type": "code",
   "execution_count": 12,
   "metadata": {},
   "outputs": [
    {
     "data": {
      "text/plain": [
       "<matplotlib.axes._subplots.AxesSubplot at 0x7f499973c090>"
      ]
     },
     "execution_count": 12,
     "metadata": {},
     "output_type": "execute_result"
    },
    {
     "data": {
      "image/png": "[encoded data removed]",
      "text/plain": [
       "<Figure size 432x288 with 1 Axes>"
      ]
     },
     "metadata": {
      "needs_background": "light"
     },
     "output_type": "display_data"
    }
   ],
   "source": [
    "df.index = df['day']\n",
    "df.plot()"
   ]
  },
  {
   "cell_type": "markdown",
   "metadata": {},
   "source": [
    "## Variables discretas"
   ]
  },
  {
   "cell_type": "code",
   "execution_count": 13,
   "metadata": {},
   "outputs": [],
   "source": [
    "count_android = [1235, 292, 382, 457, 246, 187, 230, 359, 307, 326, 340]\n",
    "count_ios = [2399, 1456, 3236, 1866, 4154, 2066, 4152, 2161, 4290, 2150, 4558]"
   ]
  },
  {
   "cell_type": "markdown",
   "metadata": {},
   "source": [
    "## Cálculo de la media"
   ]
  },
  {
   "cell_type": "code",
   "execution_count": 14,
   "metadata": {},
   "outputs": [],
   "source": [
    "media_android = sum(count_android)/len(count_android)\n",
    "media_ios = sum(count_ios)/len(count_ios)"
   ]
  },
  {
   "cell_type": "markdown",
   "metadata": {},
   "source": [
    "## Cálculo de la mediana"
   ]
  },
  {
   "cell_type": "code",
   "execution_count": 23,
   "metadata": {},
   "outputs": [],
   "source": [
    "def mediana(lista):\n",
    "    lst_sorted = sorted(lista)\n",
    "    lst_len = len(lista)\n",
    "    index = (lst_len - 1) // 2 # Floor division.\n",
    " \n",
    "    if (lst_len % 2):\n",
    "        return lst_sorted[index]\n",
    "    else:\n",
    "        return (lst_sorted[index] + lst_sorted[index + 1])/2.0\n",
    " \n",
    "mediana_android = mediana(count_android)\n",
    "mediana_ios = mediana(count_ios)"
   ]
  },
  {
   "cell_type": "code",
   "execution_count": 37,
   "metadata": {},
   "outputs": [
    {
     "name": "stdout",
     "output_type": "stream",
     "text": [
      "Android media:   396.45454545454544\n",
      "Android mediana: 326\n",
      "iOS media:       2953.4545454545455\n",
      "iOS mediana:     2399\n"
     ]
    }
   ],
   "source": [
    "print(f'Android media:   {media_android}')\n",
    "print(f'Android mediana: {mediana_android}')\n",
    "print(f'iOS media:       {media_ios}')\n",
    "print(f'iOS mediana:     {mediana_ios}')"
   ]
  },
  {
   "cell_type": "markdown",
   "metadata": {},
   "source": [
    "## Varianza"
   ]
  },
  {
   "cell_type": "code",
   "execution_count": 47,
   "metadata": {},
   "outputs": [],
   "source": [
    "n_android = [n for n in map(lambda i : pow(i-media_android, 2), count_android)]\n",
    "n_ios = [n for n in map(lambda i : pow(i-media_ios, 2), count_ios)]\n",
    "\n",
    "varianza_android = sum(n_android)/len(count_android)\n",
    "varianza_ios = sum(n_ios)/len(count_ios)"
   ]
  },
  {
   "cell_type": "code",
   "execution_count": 49,
   "metadata": {},
   "outputs": [
    {
     "name": "stdout",
     "output_type": "stream",
     "text": [
      "Varianza Android: 75428.61157024793\n",
      "Varianza iOS:     1192001.7024793387\n"
     ]
    }
   ],
   "source": [
    "print(f'Varianza Android: {varianza_android}')\n",
    "print(f'Varianza iOS:     {varianza_ios}')"
   ]
  },
  {
   "cell_type": "markdown",
   "metadata": {},
   "source": [
    "## Desviación estandar"
   ]
  },
  {
   "cell_type": "code",
   "execution_count": 50,
   "metadata": {},
   "outputs": [],
   "source": [
    "import math\n",
    "\n",
    "desviacion_std_android = math.sqrt(varianza_android)\n",
    "desviacion_std_ios = math.sqrt(varianza_ios)"
   ]
  },
  {
   "cell_type": "code",
   "execution_count": 51,
   "metadata": {},
   "outputs": [
    {
     "name": "stdout",
     "output_type": "stream",
     "text": [
      "Desviación estándar Android: 274.6426980100653\n",
      "Desviación estándar iOS:     1091.7883047914274\n"
     ]
    }
   ],
   "source": [
    "print(f'Desviación estándar Android: {desviacion_std_android}')\n",
    "print(f'Desviación estándar iOS:     {desviacion_std_ios}')"
   ]
  }
 ],
 "metadata": {
  "kernelspec": {
   "display_name": "Python 3",
   "language": "python",
   "name": "python3"
  },
  "language_info": {
   "codemirror_mode": {
    "name": "ipython",
    "version": 3
   },
   "file_extension": ".py",
   "mimetype": "text/x-python",
   "name": "python",
   "nbconvert_exporter": "python",
   "pygments_lexer": "ipython3",
   "version": "3.7.4"
  }
 },
 "nbformat": 4,
 "nbformat_minor": 2
}
